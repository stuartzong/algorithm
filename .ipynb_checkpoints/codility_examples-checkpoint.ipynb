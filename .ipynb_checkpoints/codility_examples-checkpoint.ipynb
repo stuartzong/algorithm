{
 "cells": [
  {
   "cell_type": "code",
   "execution_count": 8,
   "metadata": {},
   "outputs": [],
   "source": [
    "import numpy as np\n",
    "from IPython.core.interactiveshell import InteractiveShell\n",
    "InteractiveShell.ast_node_interactivity = \"all\""
   ]
  },
  {
   "cell_type": "code",
   "execution_count": 1,
   "metadata": {},
   "outputs": [],
   "source": [
    "A = [5, 8, -1, 3, 3,  9, 0, 2, 4, 12]\n",
    "def solution(A):\n",
    "    if len(A) < 3:\n",
    "        raise Exception(\"invalid input\")\n",
    " \n",
    "    A.sort()\n",
    "     \n",
    "    for i in range(len(A)-2):\n",
    "        if A[i] + A[i+1] > A[i+2]:\n",
    "            return 1\n",
    "             \n",
    "    return 0"
   ]
  },
  {
   "cell_type": "code",
   "execution_count": 2,
   "metadata": {},
   "outputs": [
    {
     "data": {
      "text/plain": [
       "1"
      ]
     },
     "execution_count": 2,
     "metadata": {},
     "output_type": "execute_result"
    }
   ],
   "source": [
    "solution(A)"
   ]
  },
  {
   "cell_type": "code",
   "execution_count": 4,
   "metadata": {},
   "outputs": [
    {
     "data": {
      "text/plain": [
       "1"
      ]
     },
     "execution_count": 4,
     "metadata": {},
     "output_type": "execute_result"
    }
   ],
   "source": [
    "A = [3, 3, 3]\n",
    "solution(A)"
   ]
  },
  {
   "cell_type": "markdown",
   "metadata": {},
   "source": [
    "A non-empty array A consisting of N integers is given. Array A represents numbers on a tape.\n",
    "\n",
    "Any integer P, such that 0 < P < N, splits this tape into two non-empty parts: A[0], A[1], ..., A[P − 1] and A[P], A[P + 1], ..., A[N − 1].\n",
    "\n",
    "The difference between the two parts is the value of: |(A[0] + A[1] + ... + A[P − 1]) − (A[P] + A[P + 1] + ... + A[N − 1])|\n",
    "\n",
    "In other words, it is the absolute difference between the sum of the first part and the sum of the second part.\n",
    "\n",
    "For example, consider array A such that:\n",
    "\n",
    "  A[0] = 3\n",
    "  A[1] = 1\n",
    "  A[2] = 2\n",
    "  A[3] = 4\n",
    "  A[4] = 3\n",
    "We can split this tape in four places:\n",
    "\n",
    "P = 1, difference = |3 − 10| = 7 \n",
    "P = 2, difference = |4 − 9| = 5 \n",
    "P = 3, difference = |6 − 7| = 1 \n",
    "P = 4, difference = |10 − 3| = 7 \n",
    "Write a function:\n",
    "\n",
    "def solution(A)\n",
    "\n",
    "that, given a non-empty array A of N integers, returns the minimal difference that can be achieved.\n",
    "\n",
    "For example, given:\n",
    "\n",
    "  A[0] = 3\n",
    "  A[1] = 1\n",
    "  A[2] = 2\n",
    "  A[3] = 4\n",
    "  A[4] = 3\n",
    "the function should return 1, as explained above.\n",
    "\n",
    "Write an efficient algorithm for the following assumptions:\n",
    "\n",
    "N is an integer within the range [2..100,000];\n",
    "each element of array A is an integer within the range [−1,000..1,000].\n"
   ]
  },
  {
   "cell_type": "code",
   "execution_count": 23,
   "metadata": {},
   "outputs": [],
   "source": [
    "# failed performance\n",
    "def solution(A):  \n",
    "    diffs = []\n",
    "    N = len(A)\n",
    "    if N == 0:\n",
    "        raise Exception('empty list!')\n",
    "    for i in range(1, N):\n",
    "        idx1 = range(i)\n",
    "        idx2 = range(i, N)\n",
    "        print(idx1, idx2)\n",
    "        sum1 = sum([A[j] for j in idx1])\n",
    "        sum2 = sum([A[j] for j in idx2])\n",
    "        diff = abs(sum1 - sum2)\n",
    "        diffs.append(diff)\n",
    "        print(diff)\n",
    "    return min(diffs)"
   ]
  },
  {
   "cell_type": "code",
   "execution_count": 27,
   "metadata": {},
   "outputs": [],
   "source": [
    "# time complexity O(N)\n",
    "import sys\n",
    "def solution(A):\n",
    "    minimum = sys.maxsize\n",
    "    total = sum(A)\n",
    "    leftSum = 0\n",
    "    for i in range(0, len(A)-1):\n",
    "        leftSum += A[i]\n",
    "        rightSum = total - leftSum\n",
    "        dif = abs(rightSum - leftSum)\n",
    "        minimum = min(minimum, dif)\n",
    "    return minimum"
   ]
  },
  {
   "cell_type": "code",
   "execution_count": 28,
   "metadata": {},
   "outputs": [
    {
     "data": {
      "text/plain": [
       "2"
      ]
     },
     "execution_count": 28,
     "metadata": {},
     "output_type": "execute_result"
    }
   ],
   "source": [
    "A = [3, 5, 4, -4, 0]\n",
    "solution(A)"
   ]
  },
  {
   "cell_type": "markdown",
   "metadata": {},
   "source": [
    "A small frog wants to get to the other side of the road. The frog is currently located at position X and wants to get to a position greater than or equal to Y. The small frog always jumps a fixed distance, D.\n",
    "\n",
    "Count the minimal number of jumps that the small frog must perform to reach its target.\n",
    "\n",
    "Write a function:\n",
    "\n",
    "def solution(X, Y, D)\n",
    "\n",
    "that, given three integers X, Y and D, returns the minimal number of jumps from position X to a position equal to or greater than Y.\n",
    "\n",
    "For example, given:\n",
    "\n",
    "  X = 10  \n",
    "  Y = 85  \n",
    "  D = 30  \n",
    "the function should return 3, because the frog will be positioned as follows:\n",
    "\n",
    "after the first jump, at position 10 + 30 = 40  \n",
    "after the second jump, at position 10 + 30 + 30 = 70  \n",
    "after the third jump, at position 10 + 30 + 30 + 30 = 100  \n",
    "Write an efficient algorithm for the following assumptions:  \n",
    "\n",
    "X, Y and D are integers within the range [1..1,000,000,000];\n",
    "X ≤ Y."
   ]
  },
  {
   "cell_type": "code",
   "execution_count": 33,
   "metadata": {},
   "outputs": [],
   "source": [
    "def solution(X, Y, D):    \n",
    "    if Y < X:\n",
    "        raise Exception('wrong input: end less than start!')\n",
    "    jumps = int((Y-X)/D)\n",
    "    if (Y - X) % D == 0:\n",
    "        jumps = jumps\n",
    "    else:\n",
    "        jumps = jumps + 1\n",
    "    return jumps"
   ]
  },
  {
   "cell_type": "code",
   "execution_count": 32,
   "metadata": {},
   "outputs": [
    {
     "data": {
      "text/plain": [
       "3"
      ]
     },
     "execution_count": 32,
     "metadata": {},
     "output_type": "execute_result"
    }
   ],
   "source": [
    "X = 10\n",
    "Y = 85\n",
    "D = 30\n",
    "solution(X, Y, D)"
   ]
  },
  {
   "cell_type": "markdown",
   "metadata": {},
   "source": [
    "An array A consisting of N different integers is given. The array contains integers in the range [1..(N + 1)], which means that exactly one element is missing.\n",
    "\n",
    "Your goal is to find that missing element.\n",
    "\n",
    "Write a function:\n",
    "\n",
    "def solution(A)\n",
    "\n",
    "that, given an array A, returns the value of the missing element.\n",
    "\n",
    "For example, given array A such that:\n",
    "\n",
    "  A[0] = 2  \n",
    "  A[1] = 3  \n",
    "  A[2] = 1  \n",
    "  A[3] = 5  \n",
    "the function should return 4, as it is the missing element.\n",
    "\n",
    "Write an efficient algorithm for the following assumptions:\n",
    "\n",
    "N is an integer within the range [0..100,000];  \n",
    "the elements of A are all distinct;  \n",
    "each element of array A is an integer within the range [1..(N + 1)].\n"
   ]
  },
  {
   "cell_type": "code",
   "execution_count": 24,
   "metadata": {},
   "outputs": [],
   "source": [
    "# pass correctness failed performance\n",
    "def solution1(A):\n",
    "    N = len(A)    \n",
    "    for i in range(1, N+2):\n",
    "        if i not in A:\n",
    "            return i\n",
    "        "
   ]
  },
  {
   "cell_type": "code",
   "execution_count": 6,
   "metadata": {},
   "outputs": [],
   "source": [
    "\n",
    "# 100% correctness and performance\n",
    "def solution(A):\n",
    "    N = len(A)\n",
    "    return sum(range(1, N+2)) - sum(A)"
   ]
  },
  {
   "cell_type": "code",
   "execution_count": 7,
   "metadata": {},
   "outputs": [
    {
     "data": {
      "text/plain": [
       "4"
      ]
     },
     "execution_count": 7,
     "metadata": {},
     "output_type": "execute_result"
    }
   ],
   "source": [
    "# A = [2, 3, 1, 5]\n",
    "A = np.ran\n",
    "solution(A)"
   ]
  },
  {
   "cell_type": "code",
   "execution_count": 12,
   "metadata": {},
   "outputs": [],
   "source": [
    "A = list(range(1, 100000))\n",
    "# .rembove(99999)"
   ]
  },
  {
   "cell_type": "code",
   "execution_count": 14,
   "metadata": {},
   "outputs": [
    {
     "data": {
      "text/plain": [
       "[2, 3, 1, 5]"
      ]
     },
     "execution_count": 14,
     "metadata": {},
     "output_type": "execute_result"
    }
   ],
   "source": [
    "A[:30]"
   ]
  },
  {
   "cell_type": "code",
   "execution_count": 25,
   "metadata": {},
   "outputs": [
    {
     "data": {
      "text/plain": [
       "[1, 2, 3]"
      ]
     },
     "execution_count": 25,
     "metadata": {},
     "output_type": "execute_result"
    },
    {
     "data": {
      "text/plain": [
       "[99996, 99997, 99998]"
      ]
     },
     "execution_count": 25,
     "metadata": {},
     "output_type": "execute_result"
    },
    {
     "name": "stdout",
     "output_type": "stream",
     "text": [
      "2.71 ms ± 233 µs per loop (mean ± std. dev. of 7 runs, 100 loops each)\n",
      "1min 6s ± 139 ms per loop (mean ± std. dev. of 7 runs, 1 loop each)\n"
     ]
    }
   ],
   "source": [
    "A = list(range(1, 100000))\n",
    "A.remove(99999)\n",
    "A[:3]\n",
    "A[-3:]\n",
    "%timeit solution(A)\n",
    "%timeit solution1(A)"
   ]
  },
  {
   "cell_type": "code",
   "execution_count": null,
   "metadata": {},
   "outputs": [],
   "source": []
  },
  {
   "cell_type": "markdown",
   "metadata": {},
   "source": [
    "A non-empty array A consisting of N integers is given.\n",
    "\n",
    "A permutation is a sequence containing each element from 1 to N once, and only once.\n",
    "\n",
    "For example, array A such that:\n",
    "\n",
    "    A[0] = 4  \n",
    "    A[1] = 1  \n",
    "    A[2] = 3  \n",
    "    A[3] = 2  \n",
    "is a permutation, but array A such that:\n",
    "\n",
    "    A[0] = 4  \n",
    "    A[1] = 1  \n",
    "    A[2] = 3  \n",
    "is not a permutation, because value 2 is missing.\n",
    "\n",
    "The goal is to check whether array A is a permutation.\n",
    "\n",
    "Write a function:\n",
    "\n",
    "def solution(A)\n",
    "\n",
    "that, given an array A, returns 1 if array A is a permutation and 0 if it is not.\n",
    "\n",
    "For example, given array A such that:\n",
    "\n",
    "    A[0] = 4  \n",
    "    A[1] = 1  \n",
    "    A[2] = 3  \n",
    "    A[3] = 2  \n",
    "the function should return 1.\n",
    "\n",
    "Given array A such that:\n",
    "\n",
    "    A[0] = 4  \n",
    "    A[1] = 1  \n",
    "    A[2] = 3  \n",
    "the function should return 0.\n",
    "\n",
    "Write an efficient algorithm for the following assumptions:\n",
    "\n",
    "N is an integer within the range [1..100,000];\n",
    "each element of array A is an integer within the range [1..1,000,000,000]."
   ]
  },
  {
   "cell_type": "code",
   "execution_count": 37,
   "metadata": {},
   "outputs": [
    {
     "data": {
      "text/plain": [
       "0"
      ]
     },
     "execution_count": 37,
     "metadata": {},
     "output_type": "execute_result"
    },
    {
     "name": "stdout",
     "output_type": "stream",
     "text": [
      "5.47 ms ± 340 µs per loop (mean ± std. dev. of 7 runs, 100 loops each)\n",
      "3.64 ms ± 168 µs per loop (mean ± std. dev. of 7 runs, 100 loops each)\n"
     ]
    }
   ],
   "source": [
    "# 100% correctness and performance\n",
    "def solution(A):\n",
    "    N = len(A)\n",
    "    if len(set(A)) == N:\n",
    "        if (max(A) == N) and (min(A) == 1):\n",
    "            return 1\n",
    "    return 0\n",
    "\n",
    "A = [0, 3, 4, 5, 1, 2]\n",
    "solution(A)\n",
    "\n",
    "A = list(range(1, 100000))\n",
    "%timeit solution(A)\n",
    "\n",
    "A.remove(99994)\n",
    "%timeit solution(A)"
   ]
  },
  {
   "cell_type": "code",
   "execution_count": null,
   "metadata": {},
   "outputs": [],
   "source": []
  },
  {
   "cell_type": "markdown",
   "metadata": {},
   "source": [
    "A small frog wants to get to the other side of a river. The frog is initially located on one bank of the river (position 0) and wants to get to the opposite bank (position X+1). Leaves fall from a tree onto the surface of the river.\n",
    "\n",
    "You are given an array A consisting of N integers representing the falling leaves. A[K] represents the position where one leaf falls at time K, measured in seconds.\n",
    "\n",
    "The goal is to find the earliest time when the frog can jump to the other side of the river. The frog can cross only when leaves appear at every position across the river from 1 to X (that is, we want to find the earliest moment when all the positions from 1 to X are covered by leaves). You may assume that the speed of the current in the river is negligibly small, i.e. the leaves do not change their positions once they fall in the river.\n",
    "\n",
    "For example, you are given integer X = 5 and array A such that:\n",
    "\n",
    "  A[0] = 1  \n",
    "  A[1] = 3  \n",
    "  A[2] = 1  \n",
    "  A[3] = 4  \n",
    "  A[4] = 2  \n",
    "  A[5] = 3  \n",
    "  A[6] = 5  \n",
    "  A[7] = 4  \n",
    "In second 6, a leaf falls into position 5. This is the earliest time when leaves appear in every position across the river.\n",
    "\n",
    "Write a function:\n",
    "\n",
    "def solution(X, A)\n",
    "\n",
    "that, given a non-empty array A consisting of N integers and integer X, returns the earliest time when the frog can jump to the other side of the river.\n",
    "\n",
    "If the frog is never able to jump to the other side of the river, the function should return −1.\n",
    "\n",
    "For example, given X = 5 and array A such that:\n",
    " \n",
    "  A[0] = 1  \n",
    "  A[1] = 3  \n",
    "  A[2] = 1  \n",
    "  A[3] = 4  \n",
    "  A[4] = 2  \n",
    "  A[5] = 3  \n",
    "  A[6] = 5  \n",
    "  A[7] = 4  \n",
    "the function should return 6, as explained above.\n",
    "\n",
    "Write an efficient algorithm for the following assumptions:\n",
    "\n",
    "N and X are integers within the range [1..100,000]; \n",
    "\n",
    "each element of array A is an integer within the range [1..X].\n"
   ]
  },
  {
   "cell_type": "code",
   "execution_count": 71,
   "metadata": {},
   "outputs": [],
   "source": [
    "# 100% correctness and performance\n",
    "def solution(X, A):\n",
    "    s = set()\n",
    "    for i in range(len(A)):\n",
    "        if A[i] <= X: #Add leaf position if matters\n",
    "             s.add(A[i])\n",
    "        if len(s) == X: #By this time s = {5,4,3,2,1,0}\n",
    "            return i\n",
    "    return -1\n",
    "\n"
   ]
  },
  {
   "cell_type": "code",
   "execution_count": 72,
   "metadata": {},
   "outputs": [
    {
     "data": {
      "text/plain": [
       "-1"
      ]
     },
     "execution_count": 72,
     "metadata": {},
     "output_type": "execute_result"
    },
    {
     "name": "stdout",
     "output_type": "stream",
     "text": [
      "23.2 ms ± 99.4 µs per loop (mean ± std. dev. of 7 runs, 10 loops each)\n",
      "24.4 ms ± 2.61 ms per loop (mean ± std. dev. of 7 runs, 10 loops each)\n"
     ]
    }
   ],
   "source": [
    "X = 1\n",
    "# A = [1, 3, 5, 2, 4, 2, 8, 4]\n",
    "A = [3]\n",
    "solution(X, A)\n",
    "X = 89999\n",
    "A = list(range(1, 100000))\n",
    "%timeit solution(X, A)\n",
    "\n",
    "A.remove(99994)\n",
    "%timeit solution(X, A)"
   ]
  },
  {
   "cell_type": "markdown",
   "metadata": {},
   "source": [
    "You are given N counters, initially set to 0, and you have two possible operations on them:\n",
    "\n",
    "increase(X) − counter X is increased by 1,\n",
    "max counter − all counters are set to the maximum value of any counter.\n",
    "A non-empty array A of M integers is given. This array represents consecutive operations:\n",
    "\n",
    "if A[K] = X, such that 1 ≤ X ≤ N, then operation K is increase(X),\n",
    "if A[K] = N + 1 then operation K is max counter.\n",
    "For example, given integer N = 5 and array A such that:\n",
    "\n",
    "    A[0] = 3  \n",
    "    A[1] = 4  \n",
    "    A[2] = 4  \n",
    "    A[3] = 6  \n",
    "    A[4] = 1  \n",
    "    A[5] = 4  \n",
    "    A[6] = 4  \n",
    "the values of the counters after each consecutive operation will be:\n",
    "\n",
    "    (0, 0, 1, 0, 0)  \n",
    "    (0, 0, 1, 1, 0)  \n",
    "    (0, 0, 1, 2, 0)  \n",
    "    (2, 2, 2, 2, 2)  \n",
    "    (3, 2, 2, 2, 2)  \n",
    "    (3, 2, 2, 3, 2)  \n",
    "    (3, 2, 2, 4, 2)  \n",
    "The goal is to calculate the value of every counter after all operations.\n",
    "\n",
    "Write a function:\n",
    "\n",
    "def solution(N, A)\n",
    "\n",
    "that, given an integer N and a non-empty array A consisting of M integers, returns a sequence of integers representing the values of the counters.\n",
    "\n",
    "Result array should be returned as an array of integers.\n",
    "\n",
    "For example, given:\n",
    "\n",
    "    A[0] = 3  \n",
    "    A[1] = 4  \n",
    "    A[2] = 4  \n",
    "    A[3] = 6  \n",
    "    A[4] = 1  \n",
    "    A[5] = 4  \n",
    "    A[6] = 4  \n",
    "the function should return [3, 2, 2, 4, 2], as explained above.\n",
    "\n",
    "Write an efficient algorithm for the following assumptions:\n",
    "\n",
    "N and M are integers within the range [1..100,000];  \n",
    "each element of array A is an integer within the range [1..N + 1]."
   ]
  },
  {
   "cell_type": "code",
   "execution_count": 95,
   "metadata": {},
   "outputs": [],
   "source": [
    "# 100% correctness, 20% performance\n",
    "def solution(N, A):\n",
    "    C = [0] * N\n",
    "    for i in A:\n",
    "        if (i >= 1) and (i <= N):\n",
    "            C[i-1] += 1\n",
    "        elif i == N + 1:\n",
    "            C = [max(C)] * N\n",
    "        else:\n",
    "            raise Exception('invalid value in A')\n",
    "    return C\n",
    "    "
   ]
  },
  {
   "cell_type": "code",
   "execution_count": 96,
   "metadata": {},
   "outputs": [
    {
     "data": {
      "text/plain": [
       "[3, 2, 2, 4, 2]"
      ]
     },
     "execution_count": 96,
     "metadata": {},
     "output_type": "execute_result"
    },
    {
     "name": "stdout",
     "output_type": "stream",
     "text": [
      "63.5 ms ± 2.24 ms per loop (mean ± std. dev. of 7 runs, 10 loops each)\n"
     ]
    }
   ],
   "source": [
    "N = 5\n",
    "A = [3, 4,4,6,1,4,4]\n",
    "solution(N, A)\n",
    "N = 89999\n",
    "A = list(np.random.randint(1, N+2, 99999))\n",
    "# solution(N, A)\n",
    "%timeit solution(N, A)\n",
    "\n"
   ]
  },
  {
   "cell_type": "markdown",
   "metadata": {},
   "source": [
    "This is a demo task.\n",
    "\n",
    "Write a function:\n",
    "\n",
    "def solution(A)\n",
    "\n",
    "that, given an array A of N integers, returns the smallest positive integer (greater than 0) that does not occur in A.\n",
    "\n",
    "For example, given A = [1, 3, 6, 4, 1, 2], the function should return 5.\n",
    "\n",
    "Given A = [1, 2, 3], the function should return 4.\n",
    "\n",
    "Given A = [−1, −3], the function should return 1.\n",
    "\n",
    "Write an efficient algorithm for the following assumptions:\n",
    "\n",
    "N is an integer within the range [1..100,000];\n",
    "each element of array A is an integer within the range [−1,000,000..1,000,000]."
   ]
  },
  {
   "cell_type": "code",
   "execution_count": 120,
   "metadata": {},
   "outputs": [],
   "source": [
    "# 100% for both but not as clean as below\n",
    "def solution(A):\n",
    "    if len(A) == 0:\n",
    "        raise Exception('empty list!')\n",
    "    A = list(set(A))\n",
    "    A.sort()    \n",
    "    if A[-1] <= 0:\n",
    "        return 1\n",
    "    A = [a for a in A if a>0]\n",
    "    N = len(A)\n",
    "    B = list(range(1, N+1))\n",
    "    SA = 0\n",
    "    SB = 0\n",
    "    for i in range(N):\n",
    "        SA += A[i]\n",
    "        SB += B[i]\n",
    "        if SA != SB:\n",
    "            return B[i]\n",
    "    return B[i] + 1"
   ]
  },
  {
   "cell_type": "code",
   "execution_count": 130,
   "metadata": {},
   "outputs": [],
   "source": [
    "# 100% for both\n",
    "def solution(A):\n",
    "    seen = [False] * len(A)\n",
    "    for value in A:\n",
    "        if 0 < value <= len(A):\n",
    "            seen[value-1] = True\n",
    " \n",
    "    for idx in range(len(seen)):\n",
    "        if seen[idx] == False:\n",
    "            return idx + 1\n",
    " \n",
    "    return len(A)+1"
   ]
  },
  {
   "cell_type": "code",
   "execution_count": 132,
   "metadata": {},
   "outputs": [
    {
     "data": {
      "text/plain": [
       "7"
      ]
     },
     "execution_count": 132,
     "metadata": {},
     "output_type": "execute_result"
    }
   ],
   "source": [
    "A = [3, 2,4,-4,6,1,4,4,5]\n",
    "# A = []\n",
    "# A = [-1, -3]\n",
    "solution(A)\n",
    "# X = 89999\n",
    "# A = list(range(1, 100000))\n",
    "# A.remove(X)\n",
    "# %timeit solution(A)\n",
    "# solution(A)"
   ]
  },
  {
   "cell_type": "markdown",
   "metadata": {},
   "source": [
    "A non-empty array A consisting of N integers is given. The consecutive elements of array A represent consecutive cars on a road.\n",
    "\n",
    "Array A contains only 0s and/or 1s:\n",
    "\n",
    "0 represents a car traveling east,\n",
    "1 represents a car traveling west.\n",
    "The goal is to count passing cars. We say that a pair of cars (P, Q), where 0 ≤ P < Q < N, is passing when P is traveling to the east and Q is traveling to the west.\n",
    "\n",
    "For example, consider array A such that:\n",
    "\n",
    "  A[0] = 0  \n",
    "  A[1] = 1  \n",
    "  A[2] = 0  \n",
    "  A[3] = 1  \n",
    "  A[4] = 1  \n",
    "We have five pairs of passing cars: (0, 1), (0, 3), (0, 4), (2, 3), (2, 4).\n",
    "\n",
    "Write a function:\n",
    "\n",
    "def solution(A)\n",
    "\n",
    "that, given a non-empty array A of N integers, returns the number of pairs of passing cars.\n",
    "\n",
    "The function should return −1 if the number of pairs of passing cars exceeds 1,000,000,000.\n",
    "\n",
    "For example, given:\n",
    "\n",
    "  A[0] = 0  \n",
    "  A[1] = 1  \n",
    "  A[2] = 0  \n",
    "  A[3] = 1  \n",
    "  A[4] = 1  \n",
    "the function should return 5, as explained above.\n",
    "\n",
    "Write an efficient algorithm for the following assumptions:\n",
    "\n",
    "N is an integer within the range [1..100,000];\n",
    "each element of array A is an integer that can have one of the following values: 0, 1.\n"
   ]
  },
  {
   "cell_type": "code",
   "execution_count": null,
   "metadata": {},
   "outputs": [],
   "source": []
  }
 ],
 "metadata": {
  "kernelspec": {
   "display_name": "Python 3",
   "language": "python",
   "name": "python3"
  },
  "language_info": {
   "codemirror_mode": {
    "name": "ipython",
    "version": 3
   },
   "file_extension": ".py",
   "mimetype": "text/x-python",
   "name": "python",
   "nbconvert_exporter": "python",
   "pygments_lexer": "ipython3",
   "version": "3.6.7"
  }
 },
 "nbformat": 4,
 "nbformat_minor": 2
}
